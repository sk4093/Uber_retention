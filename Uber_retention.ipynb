{
 "cells": [
  {
   "cell_type": "code",
   "execution_count": 260,
   "metadata": {
    "collapsed": true
   },
   "outputs": [],
   "source": [
    "\n",
    "# Importing libraries\n",
    "import json\n",
    "import numpy as np\n",
    "import pandas as pd\n",
    "import matplotlib.pyplot as plt\n",
    "from sklearn.cross_validation import cross_val_score\n",
    "from sklearn.metrics import roc_curve, auc"
   ]
  },
  {
   "cell_type": "code",
   "execution_count": 261,
   "metadata": {
    "collapsed": false
   },
   "outputs": [
    {
     "data": {
      "text/plain": [
       "(50000, 12)"
      ]
     },
     "execution_count": 261,
     "metadata": {},
     "output_type": "execute_result"
    }
   ],
   "source": [
    "#Loading data\n",
    "with open('uber_data_challenge.json') as data_file:\n",
    "    retention_data = json.load(data_file)\n",
    "retention_data = pd.DataFrame(retention_data)\n",
    "retention_data.shape"
   ]
  },
  {
   "cell_type": "code",
   "execution_count": 248,
   "metadata": {
    "collapsed": false
   },
   "outputs": [
    {
     "data": {
      "text/html": [
       "<div>\n",
       "<table border=\"1\" class=\"dataframe\">\n",
       "  <thead>\n",
       "    <tr style=\"text-align: right;\">\n",
       "      <th></th>\n",
       "      <th>avg_dist</th>\n",
       "      <th>avg_rating_by_driver</th>\n",
       "      <th>avg_rating_of_driver</th>\n",
       "      <th>avg_surge</th>\n",
       "      <th>city</th>\n",
       "      <th>last_trip_date</th>\n",
       "      <th>phone</th>\n",
       "      <th>signup_date</th>\n",
       "      <th>surge_pct</th>\n",
       "      <th>trips_in_first_30_days</th>\n",
       "      <th>uber_black_user</th>\n",
       "      <th>weekday_pct</th>\n",
       "    </tr>\n",
       "  </thead>\n",
       "  <tbody>\n",
       "    <tr>\n",
       "      <th>0</th>\n",
       "      <td>3.67</td>\n",
       "      <td>5.0</td>\n",
       "      <td>4.7</td>\n",
       "      <td>1.10</td>\n",
       "      <td>King's Landing</td>\n",
       "      <td>2014-06-17</td>\n",
       "      <td>iPhone</td>\n",
       "      <td>2014-01-25</td>\n",
       "      <td>15.4</td>\n",
       "      <td>4</td>\n",
       "      <td>True</td>\n",
       "      <td>46.2</td>\n",
       "    </tr>\n",
       "    <tr>\n",
       "      <th>1</th>\n",
       "      <td>8.26</td>\n",
       "      <td>5.0</td>\n",
       "      <td>5.0</td>\n",
       "      <td>1.00</td>\n",
       "      <td>Astapor</td>\n",
       "      <td>2014-05-05</td>\n",
       "      <td>Android</td>\n",
       "      <td>2014-01-29</td>\n",
       "      <td>0.0</td>\n",
       "      <td>0</td>\n",
       "      <td>False</td>\n",
       "      <td>50.0</td>\n",
       "    </tr>\n",
       "    <tr>\n",
       "      <th>2</th>\n",
       "      <td>0.77</td>\n",
       "      <td>5.0</td>\n",
       "      <td>4.3</td>\n",
       "      <td>1.00</td>\n",
       "      <td>Astapor</td>\n",
       "      <td>2014-01-07</td>\n",
       "      <td>iPhone</td>\n",
       "      <td>2014-01-06</td>\n",
       "      <td>0.0</td>\n",
       "      <td>3</td>\n",
       "      <td>False</td>\n",
       "      <td>100.0</td>\n",
       "    </tr>\n",
       "    <tr>\n",
       "      <th>3</th>\n",
       "      <td>2.36</td>\n",
       "      <td>4.9</td>\n",
       "      <td>4.6</td>\n",
       "      <td>1.14</td>\n",
       "      <td>King's Landing</td>\n",
       "      <td>2014-06-29</td>\n",
       "      <td>iPhone</td>\n",
       "      <td>2014-01-10</td>\n",
       "      <td>20.0</td>\n",
       "      <td>9</td>\n",
       "      <td>True</td>\n",
       "      <td>80.0</td>\n",
       "    </tr>\n",
       "    <tr>\n",
       "      <th>4</th>\n",
       "      <td>3.13</td>\n",
       "      <td>4.9</td>\n",
       "      <td>4.4</td>\n",
       "      <td>1.19</td>\n",
       "      <td>Winterfell</td>\n",
       "      <td>2014-03-15</td>\n",
       "      <td>Android</td>\n",
       "      <td>2014-01-27</td>\n",
       "      <td>11.8</td>\n",
       "      <td>14</td>\n",
       "      <td>False</td>\n",
       "      <td>82.4</td>\n",
       "    </tr>\n",
       "    <tr>\n",
       "      <th>5</th>\n",
       "      <td>10.56</td>\n",
       "      <td>5.0</td>\n",
       "      <td>3.5</td>\n",
       "      <td>1.00</td>\n",
       "      <td>Winterfell</td>\n",
       "      <td>2014-06-06</td>\n",
       "      <td>iPhone</td>\n",
       "      <td>2014-01-09</td>\n",
       "      <td>0.0</td>\n",
       "      <td>2</td>\n",
       "      <td>True</td>\n",
       "      <td>100.0</td>\n",
       "    </tr>\n",
       "    <tr>\n",
       "      <th>6</th>\n",
       "      <td>3.95</td>\n",
       "      <td>4.0</td>\n",
       "      <td>NaN</td>\n",
       "      <td>1.00</td>\n",
       "      <td>Astapor</td>\n",
       "      <td>2014-01-25</td>\n",
       "      <td>Android</td>\n",
       "      <td>2014-01-24</td>\n",
       "      <td>0.0</td>\n",
       "      <td>1</td>\n",
       "      <td>False</td>\n",
       "      <td>100.0</td>\n",
       "    </tr>\n",
       "    <tr>\n",
       "      <th>7</th>\n",
       "      <td>2.04</td>\n",
       "      <td>5.0</td>\n",
       "      <td>5.0</td>\n",
       "      <td>1.00</td>\n",
       "      <td>Winterfell</td>\n",
       "      <td>2014-01-29</td>\n",
       "      <td>iPhone</td>\n",
       "      <td>2014-01-28</td>\n",
       "      <td>0.0</td>\n",
       "      <td>2</td>\n",
       "      <td>False</td>\n",
       "      <td>100.0</td>\n",
       "    </tr>\n",
       "    <tr>\n",
       "      <th>8</th>\n",
       "      <td>4.36</td>\n",
       "      <td>5.0</td>\n",
       "      <td>4.5</td>\n",
       "      <td>1.00</td>\n",
       "      <td>Winterfell</td>\n",
       "      <td>2014-02-01</td>\n",
       "      <td>Android</td>\n",
       "      <td>2014-01-21</td>\n",
       "      <td>0.0</td>\n",
       "      <td>2</td>\n",
       "      <td>False</td>\n",
       "      <td>100.0</td>\n",
       "    </tr>\n",
       "    <tr>\n",
       "      <th>9</th>\n",
       "      <td>2.37</td>\n",
       "      <td>5.0</td>\n",
       "      <td>NaN</td>\n",
       "      <td>1.00</td>\n",
       "      <td>Winterfell</td>\n",
       "      <td>2014-01-05</td>\n",
       "      <td>Android</td>\n",
       "      <td>2014-01-03</td>\n",
       "      <td>0.0</td>\n",
       "      <td>1</td>\n",
       "      <td>False</td>\n",
       "      <td>0.0</td>\n",
       "    </tr>\n",
       "  </tbody>\n",
       "</table>\n",
       "</div>"
      ],
      "text/plain": [
       "   avg_dist  avg_rating_by_driver  avg_rating_of_driver  avg_surge  \\\n",
       "0      3.67                   5.0                   4.7       1.10   \n",
       "1      8.26                   5.0                   5.0       1.00   \n",
       "2      0.77                   5.0                   4.3       1.00   \n",
       "3      2.36                   4.9                   4.6       1.14   \n",
       "4      3.13                   4.9                   4.4       1.19   \n",
       "5     10.56                   5.0                   3.5       1.00   \n",
       "6      3.95                   4.0                   NaN       1.00   \n",
       "7      2.04                   5.0                   5.0       1.00   \n",
       "8      4.36                   5.0                   4.5       1.00   \n",
       "9      2.37                   5.0                   NaN       1.00   \n",
       "\n",
       "             city last_trip_date    phone signup_date  surge_pct  \\\n",
       "0  King's Landing     2014-06-17   iPhone  2014-01-25       15.4   \n",
       "1         Astapor     2014-05-05  Android  2014-01-29        0.0   \n",
       "2         Astapor     2014-01-07   iPhone  2014-01-06        0.0   \n",
       "3  King's Landing     2014-06-29   iPhone  2014-01-10       20.0   \n",
       "4      Winterfell     2014-03-15  Android  2014-01-27       11.8   \n",
       "5      Winterfell     2014-06-06   iPhone  2014-01-09        0.0   \n",
       "6         Astapor     2014-01-25  Android  2014-01-24        0.0   \n",
       "7      Winterfell     2014-01-29   iPhone  2014-01-28        0.0   \n",
       "8      Winterfell     2014-02-01  Android  2014-01-21        0.0   \n",
       "9      Winterfell     2014-01-05  Android  2014-01-03        0.0   \n",
       "\n",
       "   trips_in_first_30_days uber_black_user  weekday_pct  \n",
       "0                       4            True         46.2  \n",
       "1                       0           False         50.0  \n",
       "2                       3           False        100.0  \n",
       "3                       9            True         80.0  \n",
       "4                      14           False         82.4  \n",
       "5                       2            True        100.0  \n",
       "6                       1           False        100.0  \n",
       "7                       2           False        100.0  \n",
       "8                       2           False        100.0  \n",
       "9                       1           False          0.0  "
      ]
     },
     "execution_count": 248,
     "metadata": {},
     "output_type": "execute_result"
    }
   ],
   "source": [
    "#Exploring data \n",
    "retention_data.head(10)"
   ]
  },
  {
   "cell_type": "code",
   "execution_count": 249,
   "metadata": {
    "collapsed": false
   },
   "outputs": [],
   "source": [
    "retention_data.to_csv('retention_data.csv', sep=',')"
   ]
  },
  {
   "cell_type": "code",
   "execution_count": 250,
   "metadata": {
    "collapsed": false
   },
   "outputs": [
    {
     "data": {
      "text/plain": [
       "avg_dist                     0\n",
       "avg_rating_by_driver       201\n",
       "avg_rating_of_driver      8122\n",
       "avg_surge                    0\n",
       "city                         0\n",
       "last_trip_date               0\n",
       "phone                      396\n",
       "signup_date                  0\n",
       "surge_pct                    0\n",
       "trips_in_first_30_days       0\n",
       "uber_black_user              0\n",
       "weekday_pct                  0\n",
       "dtype: int64"
      ]
     },
     "execution_count": 250,
     "metadata": {},
     "output_type": "execute_result"
    }
   ],
   "source": [
    "#Checking missing values\n",
    "retention_data.isnull().sum()\n"
   ]
  },
  {
   "cell_type": "code",
   "execution_count": 262,
   "metadata": {
    "collapsed": false
   },
   "outputs": [],
   "source": [
    "#Since for avg_rating by driver and trips in first 30 days the number of mising values is <1% i am deleting the rows with missing\n",
    "#values in these columns. For the avg rating of driver variable, i am creating a new variable which denotes if value is missing. \n",
    "#Then i am filling avg rating of driver  with median.\n",
    "retention_data['rating_of_driver_miss']=np.where(retention_data['avg_rating_of_driver']>-1, 0, 1)\n",
    "retention_data['avg_rating_of_driver'].fillna(retention_data['avg_rating_of_driver'].median(), inplace = True)\n",
    "#Since we filled the avg rating of driver field , we can remove rows with all oher na values\n",
    "retention_data= retention_data.dropna().reset_index(drop = True)\n"
   ]
  },
  {
   "cell_type": "code",
   "execution_count": 263,
   "metadata": {
    "collapsed": false
   },
   "outputs": [
    {
     "data": {
      "text/plain": [
       "avg_dist                  float64\n",
       "avg_rating_by_driver      float64\n",
       "avg_rating_of_driver      float64\n",
       "avg_surge                 float64\n",
       "city                       object\n",
       "last_trip_date             object\n",
       "phone                      object\n",
       "surge_pct                 float64\n",
       "trips_in_first_30_days      int64\n",
       "uber_black_user              bool\n",
       "weekday_pct               float64\n",
       "rating_of_driver_miss       int32\n",
       "weekday                     int64\n",
       "dtype: object"
      ]
     },
     "execution_count": 263,
     "metadata": {},
     "output_type": "execute_result"
    }
   ],
   "source": [
    "#Creating day of week of signup from signup_date variable and then removing it\n",
    "\n",
    "\n",
    "retention_data['signup_date']=pd.to_datetime(retention_data['signup_date'])\n",
    "retention_data['weekday']=retention_data['signup_date'].dt.dayofweek\n",
    "del retention_data['signup_date']\n",
    "retention_data.dtypes"
   ]
  },
  {
   "cell_type": "code",
   "execution_count": 264,
   "metadata": {
    "collapsed": false
   },
   "outputs": [
    {
     "data": {
      "text/plain": [
       "0.37718090920131159"
      ]
     },
     "execution_count": 264,
     "metadata": {},
     "output_type": "execute_result"
    }
   ],
   "source": [
    "\n",
    "#Creating Response variable retention_ind. If last_trip_dt >= '2014-06-01' then retention_ind=1 else 0\n",
    "retention_data['retention_ind']=retention_data.last_trip_date >='2014-06-01'\n",
    "del retention_data['last_trip_date']\n",
    "retention_data['retention_ind'].mean()"
   ]
  },
  {
   "cell_type": "code",
   "execution_count": 265,
   "metadata": {
    "collapsed": false
   },
   "outputs": [
    {
     "data": {
      "text/plain": [
       "avg_dist                   float64\n",
       "avg_rating_by_driver       float64\n",
       "avg_rating_of_driver       float64\n",
       "avg_surge                  float64\n",
       "surge_pct                  float64\n",
       "trips_in_first_30_days       int64\n",
       "uber_black_user               bool\n",
       "weekday_pct                float64\n",
       "rating_of_driver_miss        int32\n",
       "weekday                      int64\n",
       "city_num                     int32\n",
       "phone_num                     bool\n",
       "Highest_rating_driver         bool\n",
       "Highest_rating_customer       bool\n",
       "dtype: object"
      ]
     },
     "execution_count": 265,
     "metadata": {},
     "output_type": "execute_result"
    }
   ],
   "source": [
    "#Pre-processing- Creating dummy variables for phone and city. \n",
    "#Creating  training and test datasets Using 80:20 split\n",
    "#Sice we see that rating 5 has actually a negative impact on retention, we keep a separate indicator for that\n",
    "\n",
    "\n",
    "from sklearn import preprocessing\n",
    "le = preprocessing.LabelEncoder()\n",
    "#retention_data['city'] = le.fit_transform(retention_data['city'])\n",
    "#retention_data['phone'] = le.fit_transform(retention_data[\"phone\"])#Dividing into training and test data\n",
    "retention_data['city_num'] = np.where(retention_data['city']=='Astapor', 0,np.where(retention_data['city']=='Winterfell', 1, 2) )\n",
    "retention_data['phone_num'] = retention_data.phone=='Android'#Dividing into training and test data\n",
    "retention_data['Highest_rating_driver']=retention_data.avg_rating_of_driver >4.5\n",
    "retention_data['Highest_rating_customer']=retention_data.avg_rating_by_driver >4.5\n",
    "#retention_data['avg_rating_of_driver']=np.where(retention_data.avg_rating_of_driver >4.5,4.5,retention_data['avg_rating_of_driver'])\n",
    "#retention_data['avg_rating_by_driver']=np.where(retention_data.avg_rating_by_driver >4,4.5,retention_data['avg_rating_by_driver'])\n",
    "del retention_data['city']\n",
    "del retention_data['phone']\n",
    "\n",
    "\n",
    "from sklearn.cross_validation import train_test_split\n",
    "\n",
    "y = retention_data[\"retention_ind\"]\n",
    "X = retention_data.drop('retention_ind', axis = 1)\n",
    "\n",
    "X_train, X_test, y_train, y_test = train_test_split(X, y, test_size=0.2, random_state=3)\n",
    "X.dtypes\n",
    "\n",
    "\n"
   ]
  },
  {
   "cell_type": "code",
   "execution_count": 266,
   "metadata": {
    "collapsed": false
   },
   "outputs": [],
   "source": [
    "\n",
    "\n",
    "# Using Logistic Regression\n",
    "\n",
    "from sklearn.linear_model import LogisticRegression\n",
    "from numpy import arange\n",
    "C_array=arange(0.1, 1.1, 0.1)\n",
    "# Initialize logistic regression model\n",
    "\n",
    "\n"
   ]
  },
  {
   "cell_type": "code",
   "execution_count": 267,
   "metadata": {
    "collapsed": false
   },
   "outputs": [
    {
     "name": "stdout",
     "output_type": "stream",
     "text": [
      "0.2\n"
     ]
    }
   ],
   "source": [
    "# Cross validation for Logistic Regression\n",
    "from sklearn.metrics import roc_auc_score\n",
    "AUC_score_max=0\n",
    "C_max=1\n",
    "for C in C_array:\n",
    "    Cross_validation_scores = cross_val_score(LogisticRegression(C=C), X_train, y_train, scoring='roc_auc', cv=10)\n",
    "    AUC_score=Cross_validation_scores.mean()\n",
    "    if AUC_score_max<AUC_score:\n",
    "        C_max=C\n",
    "        AUC_score_max=AUC_score\n",
    "print(C_max)\n",
    "\n",
    "\n",
    "#Since we had a retention rate of 38% in our data, we can always say retention_ind=0 and still get 62% accuracy."
   ]
  },
  {
   "cell_type": "code",
   "execution_count": 268,
   "metadata": {
    "collapsed": false
   },
   "outputs": [
    {
     "name": "stdout",
     "output_type": "stream",
     "text": [
      "0.673072032223\n",
      "0.681680322576\n"
     ]
    }
   ],
   "source": [
    "# Calculating performance of logistic on test set\n",
    "from sklearn.metrics import roc_auc_score\n",
    "model_logistic=LogisticRegression(C=C_max)\n",
    "model_logistic.fit(X_train, y_train)\n",
    "AUC_max_train=roc_auc_score(y_train, model_logistic.predict(X_train))\n",
    "AUC_max_test=roc_auc_score(y_test, model_logistic.predict(X_test))\n",
    "print(AUC_max_test)\n",
    "print(AUC_max_train)"
   ]
  },
  {
   "cell_type": "code",
   "execution_count": 274,
   "metadata": {
    "collapsed": false
   },
   "outputs": [
    {
     "name": "stderr",
     "output_type": "stream",
     "text": [
      "C:\\Program Files\\Anaconda3\\lib\\site-packages\\ipykernel\\__main__.py:2: FutureWarning: sort(columns=....) is deprecated, use sort_values(by=.....)\n",
      "  from ipykernel import kernelapp as app\n"
     ]
    },
    {
     "data": {
      "text/html": [
       "<div>\n",
       "<table border=\"1\" class=\"dataframe\">\n",
       "  <thead>\n",
       "    <tr style=\"text-align: right;\">\n",
       "      <th></th>\n",
       "      <th>0</th>\n",
       "      <th>1</th>\n",
       "    </tr>\n",
       "  </thead>\n",
       "  <tbody>\n",
       "    <tr>\n",
       "      <th>6</th>\n",
       "      <td>uber_black_user</td>\n",
       "      <td>[0.896555178036]</td>\n",
       "    </tr>\n",
       "    <tr>\n",
       "      <th>10</th>\n",
       "      <td>city_num</td>\n",
       "      <td>[0.843899111004]</td>\n",
       "    </tr>\n",
       "    <tr>\n",
       "      <th>13</th>\n",
       "      <td>Highest_rating_customer</td>\n",
       "      <td>[0.219593697025]</td>\n",
       "    </tr>\n",
       "    <tr>\n",
       "      <th>5</th>\n",
       "      <td>trips_in_first_30_days</td>\n",
       "      <td>[0.0974686620316]</td>\n",
       "    </tr>\n",
       "    <tr>\n",
       "      <th>2</th>\n",
       "      <td>avg_rating_of_driver</td>\n",
       "      <td>[0.086829094346]</td>\n",
       "    </tr>\n",
       "    <tr>\n",
       "      <th>9</th>\n",
       "      <td>weekday</td>\n",
       "      <td>[0.010264078414]</td>\n",
       "    </tr>\n",
       "    <tr>\n",
       "      <th>4</th>\n",
       "      <td>surge_pct</td>\n",
       "      <td>[0.00446053862299]</td>\n",
       "    </tr>\n",
       "    <tr>\n",
       "      <th>7</th>\n",
       "      <td>weekday_pct</td>\n",
       "      <td>[-1.84688806154e-06]</td>\n",
       "    </tr>\n",
       "    <tr>\n",
       "      <th>0</th>\n",
       "      <td>avg_dist</td>\n",
       "      <td>[-0.0340873200731]</td>\n",
       "    </tr>\n",
       "    <tr>\n",
       "      <th>12</th>\n",
       "      <td>Highest_rating_driver</td>\n",
       "      <td>[-0.186800083669]</td>\n",
       "    </tr>\n",
       "    <tr>\n",
       "      <th>3</th>\n",
       "      <td>avg_surge</td>\n",
       "      <td>[-0.233312070572]</td>\n",
       "    </tr>\n",
       "    <tr>\n",
       "      <th>1</th>\n",
       "      <td>avg_rating_by_driver</td>\n",
       "      <td>[-0.258681710647]</td>\n",
       "    </tr>\n",
       "    <tr>\n",
       "      <th>8</th>\n",
       "      <td>rating_of_driver_miss</td>\n",
       "      <td>[-0.700045721796]</td>\n",
       "    </tr>\n",
       "    <tr>\n",
       "      <th>11</th>\n",
       "      <td>phone_num</td>\n",
       "      <td>[-1.09080410446]</td>\n",
       "    </tr>\n",
       "  </tbody>\n",
       "</table>\n",
       "</div>"
      ],
      "text/plain": [
       "                          0                     1\n",
       "6           uber_black_user      [0.896555178036]\n",
       "10                 city_num      [0.843899111004]\n",
       "13  Highest_rating_customer      [0.219593697025]\n",
       "5    trips_in_first_30_days     [0.0974686620316]\n",
       "2      avg_rating_of_driver      [0.086829094346]\n",
       "9                   weekday      [0.010264078414]\n",
       "4                 surge_pct    [0.00446053862299]\n",
       "7               weekday_pct  [-1.84688806154e-06]\n",
       "0                  avg_dist    [-0.0340873200731]\n",
       "12    Highest_rating_driver     [-0.186800083669]\n",
       "3                 avg_surge     [-0.233312070572]\n",
       "1      avg_rating_by_driver     [-0.258681710647]\n",
       "8     rating_of_driver_miss     [-0.700045721796]\n",
       "11                phone_num      [-1.09080410446]"
      ]
     },
     "execution_count": 274,
     "metadata": {},
     "output_type": "execute_result"
    }
   ],
   "source": [
    "#Finding Coefficients of Logistic Model\n",
    "pd.DataFrame(list(zip(X_train.columns, np.transpose(model_logistic.coef_)))).sort([1], ascending=False)\n",
    "\n"
   ]
  },
  {
   "cell_type": "code",
   "execution_count": 93,
   "metadata": {
    "collapsed": false
   },
   "outputs": [
    {
     "name": "stdout",
     "output_type": "stream",
     "text": [
      "KNN AUC score on test is: 0.694348523764\n",
      "SVC AUC score on test is: 0.70808615125\n",
      "RF AUC score on test is: 0.714526601561\n"
     ]
    }
   ],
   "source": [
    "# Checking out knn, SVC and Random Forests\n",
    "from sklearn.neighbors import KNeighborsClassifier\n",
    "from sklearn.svm import SVC\n",
    "from sklearn.ensemble import RandomForestClassifier\n",
    "\n",
    "\n",
    "# Initialize the three models\n",
    "model_KNN = KNeighborsClassifier()\n",
    "model_SVC = SVC(random_state=2)\n",
    "model_RF = RandomForestClassifier(random_state=2)\n",
    "model_KNN.fit(X_train, y_train)\n",
    "model_SVC.fit(X_train, y_train)\n",
    "model_RF.fit(X_train, y_train)\n",
    "\n",
    "#Comparing AUC scores\n",
    "print(\"KNN AUC score on test is:\",roc_auc_score(y_test, model_KNN.predict(X_test)) ) \n",
    "print(\"SVC AUC score on test is:\",roc_auc_score(y_test, model_SVC.predict(X_test)) ) \n",
    "print(\"RF AUC score on test is:\",roc_auc_score(y_test, model_RF.predict(X_test)) ) "
   ]
  },
  {
   "cell_type": "code",
   "execution_count": 271,
   "metadata": {
    "collapsed": false
   },
   "outputs": [
    {
     "name": "stdout",
     "output_type": "stream",
     "text": [
      "AUC score mean on crossvalidation 0.849070210668\n",
      "Optimum depth of tree 9\n",
      "Optimum max features 12\n"
     ]
    }
   ],
   "source": [
    "#Carrying out Cross validation for finding out optimal parameters for Random forests\n",
    "max_features_array=range(1, 13, 1)\n",
    "max_depth_array=range(1,10,1)\n",
    "AUC_score_max=0\n",
    "max_features_max=10\n",
    "max_depth_max=10\n",
    "for max_depth in max_depth_array:\n",
    "    for max_features in max_features_array:\n",
    "        Cross_validation_scores = cross_val_score(RandomForestClassifier(max_features=max_features,max_depth=max_depth), X_train, y_train, scoring='roc_auc', cv=10)\n",
    "        AUC_score=Cross_validation_scores.mean()\n",
    "        if AUC_score_max<AUC_score:\n",
    "            max_features_max=max_features\n",
    "            max_depth_max=max_depth\n",
    "            AUC_score_max=AUC_score\n",
    "print(\"AUC score mean on crossvalidation\",AUC_score_max)\n",
    "print(\"Optimum depth of tree\",max_depth)\n",
    "print(\"Optimum max features\",max_features)\n"
   ]
  },
  {
   "cell_type": "code",
   "execution_count": 272,
   "metadata": {
    "collapsed": false
   },
   "outputs": [
    {
     "name": "stdout",
     "output_type": "stream",
     "text": [
      "0.778728575446\n",
      "0.750939767099\n"
     ]
    }
   ],
   "source": [
    "#Finding out Random forest performance on test set\n",
    "\n",
    "model_RF = RandomForestClassifier(max_features=max_features_max,max_depth=max_depth_max)\n",
    "model_RF.fit(X_train, y_train)\n",
    "AUC_max_train=roc_auc_score(y_train, model_RF.predict(X_train))\n",
    "AUC_max_test=roc_auc_score(y_test, model_RF.predict(X_test))\n",
    "print(AUC_max_train)\n",
    "print(AUC_max_test)"
   ]
  },
  {
   "cell_type": "code",
   "execution_count": 239,
   "metadata": {
    "collapsed": false
   },
   "outputs": [
    {
     "name": "stderr",
     "output_type": "stream",
     "text": [
      "C:\\Program Files\\Anaconda3\\lib\\site-packages\\ipykernel\\__main__.py:1: FutureWarning: sort(columns=....) is deprecated, use sort_values(by=.....)\n",
      "  if __name__ == '__main__':\n"
     ]
    },
    {
     "data": {
      "text/html": [
       "<div>\n",
       "<table border=\"1\" class=\"dataframe\">\n",
       "  <thead>\n",
       "    <tr style=\"text-align: right;\">\n",
       "      <th></th>\n",
       "      <th>0</th>\n",
       "      <th>1</th>\n",
       "    </tr>\n",
       "  </thead>\n",
       "  <tbody>\n",
       "    <tr>\n",
       "      <th>4</th>\n",
       "      <td>surge_pct</td>\n",
       "      <td>0.269352</td>\n",
       "    </tr>\n",
       "    <tr>\n",
       "      <th>7</th>\n",
       "      <td>weekday_pct</td>\n",
       "      <td>0.166123</td>\n",
       "    </tr>\n",
       "    <tr>\n",
       "      <th>11</th>\n",
       "      <td>city_num</td>\n",
       "      <td>0.155667</td>\n",
       "    </tr>\n",
       "    <tr>\n",
       "      <th>3</th>\n",
       "      <td>avg_surge</td>\n",
       "      <td>0.109735</td>\n",
       "    </tr>\n",
       "    <tr>\n",
       "      <th>12</th>\n",
       "      <td>phone_num</td>\n",
       "      <td>0.078822</td>\n",
       "    </tr>\n",
       "    <tr>\n",
       "      <th>6</th>\n",
       "      <td>uber_black_user</td>\n",
       "      <td>0.058704</td>\n",
       "    </tr>\n",
       "    <tr>\n",
       "      <th>0</th>\n",
       "      <td>avg_dist</td>\n",
       "      <td>0.054858</td>\n",
       "    </tr>\n",
       "    <tr>\n",
       "      <th>5</th>\n",
       "      <td>trips_in_first_30_days</td>\n",
       "      <td>0.048754</td>\n",
       "    </tr>\n",
       "    <tr>\n",
       "      <th>10</th>\n",
       "      <td>monthday</td>\n",
       "      <td>0.025955</td>\n",
       "    </tr>\n",
       "    <tr>\n",
       "      <th>9</th>\n",
       "      <td>weekday</td>\n",
       "      <td>0.010613</td>\n",
       "    </tr>\n",
       "    <tr>\n",
       "      <th>2</th>\n",
       "      <td>avg_rating_of_driver</td>\n",
       "      <td>0.009011</td>\n",
       "    </tr>\n",
       "    <tr>\n",
       "      <th>8</th>\n",
       "      <td>rating_of_driver_miss</td>\n",
       "      <td>0.007815</td>\n",
       "    </tr>\n",
       "    <tr>\n",
       "      <th>1</th>\n",
       "      <td>avg_rating_by_driver</td>\n",
       "      <td>0.002552</td>\n",
       "    </tr>\n",
       "    <tr>\n",
       "      <th>13</th>\n",
       "      <td>Highest_rating_driver</td>\n",
       "      <td>0.001384</td>\n",
       "    </tr>\n",
       "    <tr>\n",
       "      <th>14</th>\n",
       "      <td>Highest_rating_customer</td>\n",
       "      <td>0.000655</td>\n",
       "    </tr>\n",
       "  </tbody>\n",
       "</table>\n",
       "</div>"
      ],
      "text/plain": [
       "                          0         1\n",
       "4                 surge_pct  0.269352\n",
       "7               weekday_pct  0.166123\n",
       "11                 city_num  0.155667\n",
       "3                 avg_surge  0.109735\n",
       "12                phone_num  0.078822\n",
       "6           uber_black_user  0.058704\n",
       "0                  avg_dist  0.054858\n",
       "5    trips_in_first_30_days  0.048754\n",
       "10                 monthday  0.025955\n",
       "9                   weekday  0.010613\n",
       "2      avg_rating_of_driver  0.009011\n",
       "8     rating_of_driver_miss  0.007815\n",
       "1      avg_rating_by_driver  0.002552\n",
       "13    Highest_rating_driver  0.001384\n",
       "14  Highest_rating_customer  0.000655"
      ]
     },
     "execution_count": 239,
     "metadata": {},
     "output_type": "execute_result"
    }
   ],
   "source": [
    "#Finding out feature importaance \n",
    "pd.DataFrame(list(zip(X_train.columns, np.transpose(model_RF.feature_importances_)))).sort([1], ascending=False)\n"
   ]
  },
  {
   "cell_type": "code",
   "execution_count": null,
   "metadata": {
    "collapsed": true
   },
   "outputs": [],
   "source": []
  }
 ],
 "metadata": {
  "anaconda-cloud": {},
  "kernelspec": {
   "display_name": "Python [default]",
   "language": "python",
   "name": "python3"
  },
  "language_info": {
   "codemirror_mode": {
    "name": "ipython",
    "version": 3
   },
   "file_extension": ".py",
   "mimetype": "text/x-python",
   "name": "python",
   "nbconvert_exporter": "python",
   "pygments_lexer": "ipython3",
   "version": "3.5.2"
  }
 },
 "nbformat": 4,
 "nbformat_minor": 1
}
